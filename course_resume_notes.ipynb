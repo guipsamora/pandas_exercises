{
 "cells": [
  {
   "cell_type": "markdown",
   "id": "6757754b",
   "metadata": {},
   "source": [
    "| Role Title                                | Experience Level | Salary Range (USD) |\n",
    "| ----------------------------------------- | ---------------- | ------------------ |\n",
    "| Generative AI Engineer                    | Entry–Mid        | \\$110K–\\$170K      |\n",
    "| ML Engineer (LLM/NLP Focus)               | Entry–Mid        | \\$120K–\\$180K      |\n",
    "| AI Product Manager                        | Mid              | \\$130K–\\$190K      |\n",
    "| AI Solutions Architect                    | Mid–Senior       | \\$150K–\\$220K      |\n",
    "| LangChain Developer / AI Agent Designer   | Entry–Mid        | \\$100K–\\$160K      |\n",
    "| Data Scientist (GenAI-enabled)            | Entry–Mid        | \\$115K–\\$180K      |\n",
    "| AI Consultant (e.g., Deloitte, Accenture) | Entry–Mid        | \\$90K–\\$160K       |\n",
    "| GenAI Technical Program Manager           | Mid–Senior       | \\$140K–\\$200K      |"
   ]
  },
  {
   "cell_type": "markdown",
   "id": "e17d634b",
   "metadata": {},
   "source": [
    "AWS Sagemaker\n",
    "AWS S3\n",
    "ml.t2.medium (T2)\n",
    "ml.t3.medium (T3)\n",
    "Jupyter Notebook\n",
    "Jupyter Lab\n",
    "Python,\n",
    "Google Colab, BERT, VS Code, Vector\n",
    "Database (Chroma / Pinecone),\n",
    "Transformers, RAG (Retreival Augmented\n",
    "Generation), Quick Fine-Tuning Techniques"
   ]
  },
  {
   "cell_type": "markdown",
   "id": "ab248548",
   "metadata": {},
   "source": [
    "Prompt Engineering\n",
    "Solving Natural Language Problems\n",
    "Building Generative AI Workflows\n",
    "Python for Artificial Intelligence\n",
    "Ethical AI Practices\n",
    "Evaluating Generative AI Solutions\n",
    "Fine-tuning LLMs\n",
    "Agentic AI Development\n",
    "Secure AI Development"
   ]
  },
  {
   "cell_type": "markdown",
   "id": "fbd30836",
   "metadata": {},
   "source": [
    "Learning Outcomes:\n",
    "Understand the theoretical foundations\n",
    "of Generative AI and its applications.\n",
    "Apply Generative AI techniques to create\n",
    "text, image, and multimedia content.\n",
    "Develop and train Generative Models using\n",
    "contemporary Machine Learning\n",
    "frameworks.\n",
    "Evaluate the ethical implications of\n",
    "Generative AI.\n",
    "Implement best practices to mitigate\n",
    "potential risks in Generative AI\n",
    "solutions.\n",
    "Critically analyze the impact of Generative\n",
    "AI on various industries and society as\n",
    "a whole."
   ]
  }
 ],
 "metadata": {
  "language_info": {
   "name": "python"
  }
 },
 "nbformat": 4,
 "nbformat_minor": 5
}
